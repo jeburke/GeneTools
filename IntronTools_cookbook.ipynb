{
 "cells": [
  {
   "cell_type": "code",
   "execution_count": 1,
   "metadata": {},
   "outputs": [],
   "source": [
    "import sys\n",
    "sys.path.append('/home/jordan/')\n",
    "import GeneTools as GT\n",
    "%matplotlib inline"
   ]
  },
  {
   "cell_type": "code",
   "execution_count": 2,
   "metadata": {
    "scrolled": true
   },
   "outputs": [
    {
     "name": "stdout",
     "output_type": "stream",
     "text": [
      "Help on class Intron in module GeneTools.IntronTools:\n",
      "\n",
      "class Intron\n",
      " |  Intron object containing information about the intron location and size\n",
      " |  \n",
      " |  Parameters\n",
      " |  ----------\n",
      " |  chromosome_or_str : str\n",
      " |      If using the chromosome, must also provide start, end and strand\n",
      " |      If using a string, it must be a known string format containing the same information (see below)\n",
      " |  start : int, default `None`\n",
      " |      Beginning of intron on the chromosome (5 prime splice site on + strand, 3 prime splice site on - strand)\n",
      " |  end : int, default `None`\n",
      " |      End of intron on the chromosome\n",
      " |  strand : str, default `None`\n",
      " |      Strand of transcript containing intron\n",
      " |  str_format : str, default \"JUM\"\n",
      " |      Format of the string that contains the intron information\n",
      " |      \"JUM\" format is chrom_strand_start_end\n",
      " |      \"Jordan\" format is chrom:start-end,strand\n",
      " |      No others are currently supported\n",
      " |  organism : str or GT.Organism object, default crypto\n",
      " |      If using str - options are crypto, pombe, candida and cerevisiae\n",
      " |      - will create object from default files every time an Intron instance is initialized\n",
      " |      For better perforance - first initialize GT.organism and pass in the object\n",
      " |      \n",
      " |  Examples\n",
      " |  -------\n",
      " |  Constructing an intron from separate items\n",
      " |  >>> intron = Intron(\"chr1\",611500,611563,\"+\")\n",
      " |  >>> intron.length\n",
      " |      63\n",
      " |  \n",
      " |  Constructing an intron from a string\n",
      " |  >>> intron = Intron(\"chr1_+_611500_611563\", str_format=\"JUM\")\n",
      " |  >>> intron.length\n",
      " |      63\n",
      " |      \n",
      " |  Providing an organism object\n",
      " |  >>> crypto = GT.Organism('Cryptococcus neoformans H99', \n",
      " |                         '/home/jordan/GENOMES/H99_fa.json', \n",
      " |                         '/home/jordan/GENOMES/CNA3_FINAL_CALLGENES_1_gobs.gff3')\n",
      " |  >>> intron = Intron(\"chr1\",611500,611563,\"+\", organism=crypto)\n",
      " |  >>> intron.organism.name\n",
      " |      Cryptococcus neoformans H99\n",
      " |  \n",
      " |  Methods defined here:\n",
      " |  \n",
      " |  UTR_3prime(intron)\n",
      " |      Determines whether the intron is in the 3 prime UTR\n",
      " |      \n",
      " |      Returns\n",
      " |      -------\n",
      " |      ann : bool\n",
      " |          If True, intron is in the 3 prime UTR\n",
      " |  \n",
      " |  UTR_5prime(intron)\n",
      " |      Determines whether the intron is in the 5 prime UTR\n",
      " |      \n",
      " |      Returns\n",
      " |      -------\n",
      " |      ann : bool\n",
      " |          If True, intron is in the 5 prime UTR\n",
      " |  \n",
      " |  __init__(intron, chromosome_or_str, start=None, end=None, strand=None, str_format=None, organism='crypto')\n",
      " |  \n",
      " |  annotated(intron)\n",
      " |      Determines whether the intron is in the current annotation\n",
      " |      \n",
      " |      Returns\n",
      " |      -------\n",
      " |      ann : bool\n",
      " |          If True, intron is annotated\n",
      " |          If False, intron is not annotated\n",
      " |  \n",
      " |  branch(intron, branch_db, guess=True)\n",
      " |      Retrieve branch information if available\n",
      " |      \n",
      " |      Parameters\n",
      " |      ----------\n",
      " |      branch_db : str\n",
      " |          Pickle or csv file containing available branch information for introns in the organism.\n",
      " |          Must contain the following columns: [chromosome, start, end, strand, branch, sequence].\n",
      " |          Chromosome, start, end and strand refer to the intron.\n",
      " |          Branch is the position of the branch in the chromosome.\n",
      " |          Sequence is the 5 nt surrounding the branch where the branch A is position 4 (e.g. CTAAC)\n",
      " |      guess : bool, default `True`\n",
      " |          If no branch was experimentally detected for the intron, guess based on the most \n",
      " |          common branch sequences in the database.\n",
      " |          \n",
      " |      Returns\n",
      " |      -------\n",
      " |      branch : int\n",
      " |          position of the branch in the chromosome\n",
      " |      br_seq : str\n",
      " |          sequence of the branch (e.g. CTAAC)\n",
      " |      br_dist : int\n",
      " |          distance from the branch to the 3 prime splice site\n",
      " |      py_content : float\n",
      " |          fraction pyrimidine between the branch and the 3 prime splice site\n",
      " |  \n",
      " |  count_3pss_reads(intron, bams, rpm=False, library_direction='reverse')\n",
      " |      Count the reads (or calculate RPM) spanning the 3 prime splice site\n",
      " |      \n",
      " |      Parameters\n",
      " |      ----------\n",
      " |      bams : str or list\n",
      " |          Single or list of sorted, indexed bam files for analysis\n",
      " |      rpm : bool, default `False`\n",
      " |          Normalize to total aligned reads (for comparing between samples)\n",
      " |      library_direction : str, default reverse\n",
      " |          Direction of first read relative to genome (usually reverse for RNA-seq)\n",
      " |      \n",
      " |      Returns\n",
      " |      -------\n",
      " |      counts : pandas.core.series.Series\n",
      " |          Pandas series where the index is the name of the bam files and the value is the read count or RPM\n",
      " |          Can be treated like a dictionary, but easier to perform math or populate a DataFrame\n",
      " |  \n",
      " |  count_5pss_reads(intron, bams, rpm=False, library_direction='reverse')\n",
      " |      Count the reads (or calculate RPM) spanning the 5 prime splice site\n",
      " |      \n",
      " |      Parameters\n",
      " |      ----------\n",
      " |      bams : str or list\n",
      " |          Single or list of sorted, indexed bam files for analysis\n",
      " |      rpm : bool, default `False`\n",
      " |          Normalize to total aligned reads (for comparing between samples)\n",
      " |      library_direction : str, default reverse\n",
      " |          Direction of first read relative to genome (usually reverse for RNA-seq)\n",
      " |      \n",
      " |      Returns\n",
      " |      -------\n",
      " |      counts : pandas.core.series.Series\n",
      " |          Pandas series where the index is the name of the bam files and the value is the read count or RPM\n",
      " |          Can be treated like a dictionary, but easier to perform math or populate a DataFrame\n",
      " |  \n",
      " |  count_intronic_reads(intron, bams, rpkm=False, library_direction='reverse')\n",
      " |      Count the reads (or calculate RPKM) within the intron.\n",
      " |          Will exclude reads with junctions that match the intron, but will \n",
      " |          count reads that have other junctions (i.e. nested splicing events).\n",
      " |      \n",
      " |      Parameters\n",
      " |      ----------\n",
      " |      bams : str or list\n",
      " |          Single or list of sorted, indexed bam files for analysis\n",
      " |      rpkm : bool, default `False`\n",
      " |          Normalize to total aligned reads (for comparing between samples) and intron size\n",
      " |      library_direction : str, default reverse\n",
      " |          Direction of first read relative to genome (usually reverse for RNA-seq)\n",
      " |      \n",
      " |      Returns\n",
      " |      -------\n",
      " |      counts : pandas.core.series.Series\n",
      " |          Pandas series where the index is the name of the bam files and the value is the read count or RPM\n",
      " |          Can be treated like a dictionary, but easier to perform math or populate a DataFrame\n",
      " |  \n",
      " |  count_junction_reads(intron, bams, rpm=False, library_direction='reverse')\n",
      " |      Count the reads with junctions that match the intron.\n",
      " |      \n",
      " |      Parameters\n",
      " |      ----------\n",
      " |      bams : str or list\n",
      " |          Single or list of sorted, indexed bam files for analysis\n",
      " |      rpm : bool, default `False`\n",
      " |          Normalize to total aligned reads (for comparing between samples)\n",
      " |      library_direction : str, default reverse\n",
      " |          Direction of first read relative to genome (usually reverse for RNA-seq)\n",
      " |      \n",
      " |      Returns\n",
      " |      -------\n",
      " |      counts : pandas.core.series.Series\n",
      " |          Pandas series where the index is the name of the bam files and the value is the read count or RPM\n",
      " |          Can be treated like a dictionary, but easier to perform math or populate a DataFrame\n",
      " |  \n",
      " |  count_transcript_reads(intron, bams, rpkm=False, library_direction='reverse')\n",
      " |      Count the reads (or calculate RPKM) within the transcript that contains the intron.\n",
      " |      \n",
      " |      Parameters\n",
      " |      ----------\n",
      " |      bams : str or list\n",
      " |          Single or list of sorted, indexed bam files for analysis\n",
      " |      rpkm : bool, default `False`\n",
      " |          Normalize to total aligned reads (for comparing between samples) and transcript size\n",
      " |      library_direction : str, default reverse\n",
      " |          Direction of first read relative to genome (usually reverse for RNA-seq)\n",
      " |      \n",
      " |      Returns\n",
      " |      -------\n",
      " |      counts : dict of pandas.core.series.Series\n",
      " |          Dictionary of pandas series where the key is the transcript name.\n",
      " |          Values are andas series where the index is the name of the bam files and the value is the read count or RPM.\n",
      " |          Can be treated like a dictionary, but easier to perform math or populate a DataFrame.\n",
      " |  \n",
      " |  is_first(intron)\n",
      " |      Determines whether the intron is the first intron in the transcript\n",
      " |      \n",
      " |      Returns\n",
      " |      -------\n",
      " |      ann : bool\n",
      " |          If True, intron is the first intron\n",
      " |  \n",
      " |  is_last(intron)\n",
      " |      Determines whether the intron is the last intron in the transcript\n",
      " |      \n",
      " |      Returns\n",
      " |      -------\n",
      " |      ann : bool\n",
      " |          If True, intron is the last intron\n",
      " |  \n",
      " |  is_only(intron)\n",
      " |      Determines whether the intron is the only intron in the transcript\n",
      " |      \n",
      " |      Returns\n",
      " |      -------\n",
      " |      ann : bool\n",
      " |          If True, intron is the only intron\n",
      " |  \n",
      " |  percent_py(intron, fraction=0.3)\n",
      " |      Calculate the percent pyrimidine in the last 30% of the intron\n",
      " |      \n",
      " |      Parameters\n",
      " |      ----------\n",
      " |      fraction : float, default 0.3\n",
      " |          Fraction of the intron over which to calculate percent Py. Uses the last 30% by default.\n",
      " |      \n",
      " |      Returns\n",
      " |      -------\n",
      " |      perc_py : float\n",
      " |          Percent pyrimidine content in the specified fraction of the intron\n",
      " |  \n",
      " |  position(intron)\n",
      " |      Finds the position of the intron in the transcript\n",
      " |      \n",
      " |      Returns\n",
      " |      -------\n",
      " |      position : int\n",
      " |          Zero indexed position of the intron within the transcript\n",
      " |          I.e. the first intron will be 0 etc.\n",
      " |  \n",
      " |  score3p(intron, PSSM_txt_file, position=(-6, 2), quiet=True)\n",
      " |      Score the 3 prime end of the intron\n",
      " |      \n",
      " |      Parameters\n",
      " |      ----------\n",
      " |      PSSM_txt_file : str\n",
      " |          Text file created from a numpy array containing the PSSM scores from annotated introns.\n",
      " |          This file can be created using the build_consensus_matrix function in this module.\n",
      " |      position : tuple, default (-6,2)\n",
      " |          Range of sequence to retrieve relative to start of intron\n",
      " |          Default retrieves 2 nt upstream and 6 nt downstream (e.g. TATTAGAC)\n",
      " |      quiet : bool, default `True`\n",
      " |          Do not print the 3 prime splice site sequence if True \n",
      " |          (use quiet when iterating through large numbers of introns)\n",
      " |      \n",
      " |      Returns\n",
      " |      -------\n",
      " |      score_3prime : float\n",
      " |          The score of the 3 prime splice site\n",
      " |          Higher scores are closer to consensus. A score of 0 is random.\n",
      " |  \n",
      " |  score5p(intron, PSSM_txt_file, position=(-2, 6), quiet=True)\n",
      " |      Score the 5 prime end of the intron\n",
      " |      \n",
      " |      Parameters\n",
      " |      ----------\n",
      " |      PSSM_txt_file : str\n",
      " |          Text file created from a numpy array containing the PSSM scores from annotated introns.\n",
      " |          This file can be created using the build_consensus_matrix function in this module.\n",
      " |      position : tuple, default (-2,6)\n",
      " |          Range of sequence to retrieve relative to start of intron\n",
      " |          Default retrieves 2 nt upstream and 6 nt downstream (e.g. TGGTAAGT)\n",
      " |      quiet : bool, default `True`\n",
      " |          Do not print the 5 prime splice site sequence if True \n",
      " |          (use quiet when iterating through large numbers of introns)\n",
      " |      \n",
      " |      Returns\n",
      " |      -------\n",
      " |      score_5prime : float\n",
      " |          The score of the 5 prime splice site\n",
      " |          Higher scores are closer to consensus. A score of 0 is random.\n",
      " |  \n",
      " |  sequence(intron, seq_range=(-2, 2))\n",
      " |      Retrieve the intron sequence\n",
      " |      \n",
      " |      Parameters\n",
      " |      ----------\n",
      " |      seq_range : tuple, default (-2,2)\n",
      " |          Range of sequence to retrieve relative to start and end of intron. \n",
      " |          Default retrieves 2 nt upstream and 2 nt downstream.\n",
      " |      \n",
      " |      Returns\n",
      " |      -------\n",
      " |      seq : str\n",
      " |          The sequence of the intron in the specified range\n",
      " |  \n",
      " |  transcripts(intron, as_string=False)\n",
      " |      Find transcripts that may contain this intron (same strand and location)\n",
      " |      \n",
      " |      Parameters\n",
      " |      ----------\n",
      " |      as_string : bool, default `False`\n",
      " |          If True, returns lists of transcripts as comma separated strings\n",
      " |      \n",
      " |      Returns\n",
      " |      -------\n",
      " |      tx_list : list or str\n",
      " |          list of transcripts if as_string is False\n",
      " |          comma separated string of transcripts if as_string is True\n",
      "\n"
     ]
    }
   ],
   "source": [
    "help(GT.Intron)"
   ]
  },
  {
   "cell_type": "code",
   "execution_count": 3,
   "metadata": {},
   "outputs": [],
   "source": [
    "crypto = GT.Organism('Cryptococcus neoformans H99', \n",
    "                     '/home/jordan/GENOMES/H99_fa.json', \n",
    "                     '/home/jordan/GENOMES/CNA3_FINAL_CALLGENES_1_gobs.gff3')"
   ]
  },
  {
   "cell_type": "markdown",
   "metadata": {},
   "source": [
    "## Create a single intron object"
   ]
  },
  {
   "cell_type": "code",
   "execution_count": 4,
   "metadata": {},
   "outputs": [
    {
     "name": "stdout",
     "output_type": "stream",
     "text": [
      "Help on method __init__ in module GeneTools.IntronTools:\n",
      "\n",
      "__init__(intron, chromosome_or_str, start=None, end=None, strand=None, str_format=None, organism='crypto') unbound GeneTools.IntronTools.Intron method\n",
      "\n"
     ]
    }
   ],
   "source": [
    "help(GT.Intron.__init__)"
   ]
  },
  {
   "cell_type": "code",
   "execution_count": 5,
   "metadata": {},
   "outputs": [],
   "source": [
    "test_intron = GT.Intron('chr1',611500,611563,'+', organism=crypto)"
   ]
  },
  {
   "cell_type": "code",
   "execution_count": 6,
   "metadata": {},
   "outputs": [
    {
     "data": {
      "text/plain": [
       "['CNAG_00231T0']"
      ]
     },
     "execution_count": 6,
     "metadata": {},
     "output_type": "execute_result"
    }
   ],
   "source": [
    "test_intron.transcripts()"
   ]
  },
  {
   "cell_type": "code",
   "execution_count": 7,
   "metadata": {},
   "outputs": [
    {
     "data": {
      "text/plain": [
       "u'TGGTAAGTTCTCGTCACATTGATTGATTCTCTTGTAAGCCCGTTGTTCATTACCATGTTTTATTAGAC'"
      ]
     },
     "execution_count": 7,
     "metadata": {},
     "output_type": "execute_result"
    }
   ],
   "source": [
    "test_intron.sequence()"
   ]
  },
  {
   "cell_type": "code",
   "execution_count": 8,
   "metadata": {},
   "outputs": [
    {
     "data": {
      "text/plain": [
       "u'TGGTAAGTTCTCGTCACATTGATTGATTCTCTTGTAAGCCCGTTGTTCATTACCATGTTTTATTAGACAAAC'"
      ]
     },
     "execution_count": 8,
     "metadata": {},
     "output_type": "execute_result"
    }
   ],
   "source": [
    "test_intron.sequence(seq_range=(-2,6))"
   ]
  },
  {
   "cell_type": "code",
   "execution_count": 9,
   "metadata": {},
   "outputs": [
    {
     "data": {
      "text/plain": [
       "60.0"
      ]
     },
     "execution_count": 9,
     "metadata": {},
     "output_type": "execute_result"
    }
   ],
   "source": [
    "test_intron.percent_py()"
   ]
  },
  {
   "cell_type": "code",
   "execution_count": 10,
   "metadata": {},
   "outputs": [
    {
     "data": {
      "text/plain": [
       "True"
      ]
     },
     "execution_count": 10,
     "metadata": {},
     "output_type": "execute_result"
    }
   ],
   "source": [
    "test_intron.annotated()"
   ]
  },
  {
   "cell_type": "code",
   "execution_count": 11,
   "metadata": {},
   "outputs": [
    {
     "data": {
      "text/plain": [
       "63"
      ]
     },
     "execution_count": 11,
     "metadata": {},
     "output_type": "execute_result"
    }
   ],
   "source": [
    "test_intron.length"
   ]
  },
  {
   "cell_type": "code",
   "execution_count": 12,
   "metadata": {},
   "outputs": [
    {
     "data": {
      "text/plain": [
       "False"
      ]
     },
     "execution_count": 12,
     "metadata": {},
     "output_type": "execute_result"
    }
   ],
   "source": [
    "test_intron.is_first()"
   ]
  },
  {
   "cell_type": "code",
   "execution_count": 13,
   "metadata": {},
   "outputs": [
    {
     "data": {
      "text/plain": [
       "True"
      ]
     },
     "execution_count": 13,
     "metadata": {},
     "output_type": "execute_result"
    }
   ],
   "source": [
    "test_intron.is_last()"
   ]
  },
  {
   "cell_type": "code",
   "execution_count": 14,
   "metadata": {},
   "outputs": [
    {
     "data": {
      "text/plain": [
       "False"
      ]
     },
     "execution_count": 14,
     "metadata": {},
     "output_type": "execute_result"
    }
   ],
   "source": [
    "test_intron.is_only()"
   ]
  },
  {
   "cell_type": "code",
   "execution_count": 15,
   "metadata": {},
   "outputs": [
    {
     "data": {
      "text/plain": [
       "False"
      ]
     },
     "execution_count": 15,
     "metadata": {},
     "output_type": "execute_result"
    }
   ],
   "source": [
    "test_intron.UTR_5prime()"
   ]
  },
  {
   "cell_type": "code",
   "execution_count": 16,
   "metadata": {},
   "outputs": [
    {
     "data": {
      "text/plain": [
       "False"
      ]
     },
     "execution_count": 16,
     "metadata": {},
     "output_type": "execute_result"
    }
   ],
   "source": [
    "test_intron.UTR_3prime()"
   ]
  },
  {
   "cell_type": "code",
   "execution_count": 17,
   "metadata": {},
   "outputs": [
    {
     "name": "stdout",
     "output_type": "stream",
     "text": [
      "Sequence: TGGTAAGT\n"
     ]
    },
    {
     "data": {
      "text/plain": [
       "10.617312245569764"
      ]
     },
     "execution_count": 17,
     "metadata": {},
     "output_type": "execute_result"
    }
   ],
   "source": [
    "test_intron.score5p('/home/jordan/GENOMES/CNA3_5pSS_PSSM.txt', quiet=False)"
   ]
  },
  {
   "cell_type": "code",
   "execution_count": 18,
   "metadata": {},
   "outputs": [
    {
     "data": {
      "text/plain": [
       "5.1797172481763525"
      ]
     },
     "execution_count": 18,
     "metadata": {},
     "output_type": "execute_result"
    }
   ],
   "source": [
    "test_intron.score3p('/home/jordan/GENOMES/CNA3_3pSS_PSSM.txt')"
   ]
  },
  {
   "cell_type": "markdown",
   "metadata": {},
   "source": [
    "## Counting reads"
   ]
  },
  {
   "cell_type": "code",
   "execution_count": 19,
   "metadata": {},
   "outputs": [],
   "source": [
    "bams = ['/data/jordan/SLHM04/FASTQ_FILES/A10_S265_L004_R1_001_sorted.bam', \n",
    "        '/data/jordan/SLHM04/FASTQ_FILES/A11_S273_L004_R1_001_sorted.bam']"
   ]
  },
  {
   "cell_type": "code",
   "execution_count": 20,
   "metadata": {},
   "outputs": [
    {
     "data": {
      "text/plain": [
       "/data/jordan/SLHM04/FASTQ_FILES/A10_S265_L004_R1_001_sorted.bam    0.0\n",
       "/data/jordan/SLHM04/FASTQ_FILES/A11_S273_L004_R1_001_sorted.bam    0.0\n",
       "dtype: float64"
      ]
     },
     "execution_count": 20,
     "metadata": {},
     "output_type": "execute_result"
    }
   ],
   "source": [
    "test_intron.count_5pss_reads(bams, rpm=False)"
   ]
  },
  {
   "cell_type": "code",
   "execution_count": 21,
   "metadata": {},
   "outputs": [
    {
     "data": {
      "text/plain": [
       "/data/jordan/SLHM04/FASTQ_FILES/A10_S265_L004_R1_001_sorted.bam    1.0\n",
       "/data/jordan/SLHM04/FASTQ_FILES/A11_S273_L004_R1_001_sorted.bam    0.0\n",
       "dtype: float64"
      ]
     },
     "execution_count": 21,
     "metadata": {},
     "output_type": "execute_result"
    }
   ],
   "source": [
    "test_intron.count_3pss_reads(bams, rpm=False)"
   ]
  },
  {
   "cell_type": "code",
   "execution_count": 22,
   "metadata": {},
   "outputs": [
    {
     "data": {
      "text/plain": [
       "/data/jordan/SLHM04/FASTQ_FILES/A10_S265_L004_R1_001_sorted.bam    0.0\n",
       "/data/jordan/SLHM04/FASTQ_FILES/A11_S273_L004_R1_001_sorted.bam    0.0\n",
       "dtype: float64"
      ]
     },
     "execution_count": 22,
     "metadata": {},
     "output_type": "execute_result"
    }
   ],
   "source": [
    "test_intron.count_junction_reads(bams, rpm=False)"
   ]
  },
  {
   "cell_type": "code",
   "execution_count": 23,
   "metadata": {},
   "outputs": [
    {
     "data": {
      "text/plain": [
       "/data/jordan/SLHM04/FASTQ_FILES/A10_S265_L004_R1_001_sorted.bam    1.0\n",
       "/data/jordan/SLHM04/FASTQ_FILES/A11_S273_L004_R1_001_sorted.bam    0.0\n",
       "dtype: float64"
      ]
     },
     "execution_count": 23,
     "metadata": {},
     "output_type": "execute_result"
    }
   ],
   "source": [
    "test_intron.count_intronic_reads(bams, rpkm=False)"
   ]
  },
  {
   "cell_type": "code",
   "execution_count": 24,
   "metadata": {
    "scrolled": true
   },
   "outputs": [
    {
     "data": {
      "text/plain": [
       "{'CNAG_00231T0': /data/jordan/SLHM04/FASTQ_FILES/A10_S265_L004_R1_001_sorted.bam    2475.0\n",
       " /data/jordan/SLHM04/FASTQ_FILES/A11_S273_L004_R1_001_sorted.bam    2111.0\n",
       " dtype: float64}"
      ]
     },
     "execution_count": 24,
     "metadata": {},
     "output_type": "execute_result"
    }
   ],
   "source": [
    "test_intron.count_transcript_reads(bams, rpkm=False)"
   ]
  },
  {
   "cell_type": "code",
   "execution_count": 25,
   "metadata": {},
   "outputs": [],
   "source": [
    "### Note - this is 3' QuantSeq data so there should be few reads in the intron since it is not at the very 3' \n",
    "### end of the transcript and this is polyA RNA\n",
    "### Also, I did not have STAR look for split reads when I did these alignments, so there should not be junction reads"
   ]
  },
  {
   "cell_type": "markdown",
   "metadata": {
    "collapsed": true
   },
   "source": [
    "## Branches"
   ]
  },
  {
   "cell_type": "code",
   "execution_count": 26,
   "metadata": {},
   "outputs": [
    {
     "name": "stdout",
     "output_type": "stream",
     "text": [
      "Help on method branch in module GeneTools.IntronTools:\n",
      "\n",
      "branch(intron, branch_db, guess=True) unbound GeneTools.IntronTools.Intron method\n",
      "    Retrieve branch information if available\n",
      "    \n",
      "    Parameters\n",
      "    ----------\n",
      "    branch_db : str\n",
      "        Pickle or csv file containing available branch information for introns in the organism.\n",
      "        Must contain the following columns: [chromosome, start, end, strand, branch, sequence].\n",
      "        Chromosome, start, end and strand refer to the intron.\n",
      "        Branch is the position of the branch in the chromosome.\n",
      "        Sequence is the 5 nt surrounding the branch where the branch A is position 4 (e.g. CTAAC)\n",
      "    guess : bool, default `True`\n",
      "        If no branch was experimentally detected for the intron, guess based on the most \n",
      "        common branch sequences in the database.\n",
      "        \n",
      "    Returns\n",
      "    -------\n",
      "    branch : int\n",
      "        position of the branch in the chromosome\n",
      "    br_seq : str\n",
      "        sequence of the branch (e.g. CTAAC)\n",
      "    br_dist : int\n",
      "        distance from the branch to the 3 prime splice site\n",
      "    py_content : float\n",
      "        fraction pyrimidine between the branch and the 3 prime splice site\n",
      "\n"
     ]
    }
   ],
   "source": [
    "help(GT.Intron.branch)"
   ]
  },
  {
   "cell_type": "code",
   "execution_count": 27,
   "metadata": {
    "scrolled": true
   },
   "outputs": [
    {
     "data": {
      "text/plain": [
       "(611533, 'GTAAG', 35, 0.6)"
      ]
     },
     "execution_count": 27,
     "metadata": {},
     "output_type": "execute_result"
    }
   ],
   "source": [
    "test_intron.branch('/home/jordan/GENOMES/CNA3_branches.db')"
   ]
  },
  {
   "cell_type": "markdown",
   "metadata": {},
   "source": [
    "## Directly from string"
   ]
  },
  {
   "cell_type": "code",
   "execution_count": 28,
   "metadata": {},
   "outputs": [],
   "source": [
    "test_intron2 = GT.Intron('chr1_+_611500_611563', str_format=\"JUM\")"
   ]
  },
  {
   "cell_type": "code",
   "execution_count": 29,
   "metadata": {},
   "outputs": [
    {
     "data": {
      "text/plain": [
       "63"
      ]
     },
     "execution_count": 29,
     "metadata": {},
     "output_type": "execute_result"
    }
   ],
   "source": [
    "test_intron2.length"
   ]
  },
  {
   "cell_type": "code",
   "execution_count": 30,
   "metadata": {},
   "outputs": [
    {
     "data": {
      "text/plain": [
       "u'TGGTAAGTTCTCGTCACATTGATTGATTCTCTTGTAAGCCCGTTGTTCATTACCATGTTTTATTAGAC'"
      ]
     },
     "execution_count": 30,
     "metadata": {},
     "output_type": "execute_result"
    }
   ],
   "source": [
    "test_intron2.sequence()"
   ]
  },
  {
   "cell_type": "markdown",
   "metadata": {},
   "source": [
    "## Introns from gff3 file"
   ]
  },
  {
   "cell_type": "markdown",
   "metadata": {},
   "source": [
    "### Classified by transcript"
   ]
  },
  {
   "cell_type": "code",
   "execution_count": 31,
   "metadata": {},
   "outputs": [],
   "source": [
    "Cn_introns = GT.introns_from_gff3('crypto', by_transcript=True, pickle_name='CNA3_introns_by_transcript.pickle')"
   ]
  },
  {
   "cell_type": "code",
   "execution_count": 32,
   "metadata": {
    "scrolled": false
   },
   "outputs": [
    {
     "name": "stdout",
     "output_type": "stream",
     "text": [
      "523918\n",
      "103\n",
      "CGGTACGTAATCGATCCCTCTCTTCCCATTGCTTCATATACCACCGATGTGACTTCCGAATTTGTGCGCTGTTCTTGAGCTACGGTAGCTAACAACTATGTGATAGGT\n",
      "524047\n",
      "53\n",
      "AGGTATGCTTTTAAATCAACGGGGTAGGACGTCCATGTATCTAACATTCAAGTTAGGA\n",
      "524146\n",
      "50\n",
      "GAGTGAGTGTCCCAAATGTTGACCCATTGGATGAATTACTAAATTGTCCATAGCC\n",
      "524222\n",
      "54\n",
      "TGGTACGGTACTCCTGTCTGCCCAATAACCTCGTTTAGTACTAACGCTATTGCACAGGT\n",
      "524301\n",
      "55\n",
      "CCGTAAGTCTTCGATACTTCTAGCGCTCTATATGGCTTATTAACCTGATTCCCGACAGAC\n",
      "524593\n",
      "61\n",
      "ATGTACGTCGCCGATTACCGCCACTCAATTCTATGACGTGATAGCTGATGGATGACATCATTAGGT\n",
      "524767\n",
      "61\n",
      "ACGTTAGTGACATCTCCAATTATTACTTCTCGATTGACTGACGCCTCGATTGGCATCTTCTTAGTT\n",
      "524908\n",
      "59\n",
      "CAGTAAGCTTCCTATTCGCCATACTATAAAAACATGACGTCTTTATTGATCACATATTGCAGAG\n",
      "525033\n",
      "45\n",
      "AGGTGGGTAGAGATTGCCGCTGTGTGCTAAAGTCTAACATCTATGTAGGC\n",
      "525261\n",
      "52\n",
      "GGGTGAGTGCATTAGTGCTTTGTCATGATAGGCCAATAACGTTCCAAATTGGTAGTT\n",
      "525429\n",
      "54\n",
      "GGGTATGTTGCGTCCTTGTTTGTTCCTGGTTTGTCAACATTGGCTGATATTTTTTAGTA\n"
     ]
    }
   ],
   "source": [
    "for intron in Cn_introns['CNAG_06699T0']:\n",
    "    print intron.start\n",
    "    print intron.length\n",
    "    print intron.sequence()"
   ]
  },
  {
   "cell_type": "markdown",
   "metadata": {},
   "source": [
    "### Just as a list"
   ]
  },
  {
   "cell_type": "code",
   "execution_count": 33,
   "metadata": {},
   "outputs": [],
   "source": [
    "Cn_introns = GT.introns_from_gff3('crypto', by_transcript=False)"
   ]
  },
  {
   "cell_type": "code",
   "execution_count": 34,
   "metadata": {},
   "outputs": [
    {
     "data": {
      "text/plain": [
       "39417"
      ]
     },
     "execution_count": 34,
     "metadata": {},
     "output_type": "execute_result"
    }
   ],
   "source": [
    "len(Cn_introns)"
   ]
  },
  {
   "cell_type": "code",
   "execution_count": 35,
   "metadata": {},
   "outputs": [
    {
     "name": "stdout",
     "output_type": "stream",
     "text": [
      "chr1\n",
      "3891\n",
      "GAGTAAGTTTCACTAGTTGCTTGACAGTATAACGCTCTAAGGCTCTGTAACTTACCTGCCTTGTCACAGAA\n",
      "chr1\n",
      "50806\n",
      "AGGTAAGTCGAATGCTACTTCTTCCCTCCGCTTCGATTTAGTATACTGAGCACTAAGCAATACTGATCATACCTGTCTTAGCC\n",
      "chr10\n",
      "91966\n",
      "TGGTGAGTGATACATCCAGGCCCACTCAGACTAGGCCGGACGGCTAATCCGCGACTCGGATTTTGCAGAA\n",
      "chr3\n",
      "668500\n",
      "CAGTAAGTCATCCTGATCTTATAGTGTCTGCCGCCGACAGCTGACAGCCTTATAGCG\n"
     ]
    }
   ],
   "source": [
    "for i in [5,100,5000,20000]:\n",
    "    intron = Cn_introns[i]\n",
    "    print intron.chromosome\n",
    "    print intron.start\n",
    "    print intron.sequence()"
   ]
  },
  {
   "cell_type": "markdown",
   "metadata": {},
   "source": [
    "## Building a new consensus matrix for scoring"
   ]
  },
  {
   "cell_type": "code",
   "execution_count": 36,
   "metadata": {},
   "outputs": [],
   "source": [
    "import warnings; warnings.simplefilter('ignore')\n",
    "import sys\n",
    "sys.path.append('/home/jordan/')\n",
    "import GeneTools as GT\n",
    "%matplotlib inline"
   ]
  },
  {
   "cell_type": "code",
   "execution_count": 37,
   "metadata": {},
   "outputs": [],
   "source": [
    "gff3 = '/home/jordan/GENOMES/CNA3_all_transcripts.gff3'\n",
    "fa = '/home/jordan/GENOMES/H99_fa.json'"
   ]
  },
  {
   "cell_type": "code",
   "execution_count": 38,
   "metadata": {},
   "outputs": [
    {
     "name": "stdout",
     "output_type": "stream",
     "text": [
      "Loading sequences...\n",
      "Calculating base composition...\n",
      "[[0.5 0.2 -1.4 -10.3 0.1 1.2 0.4 -2.6]\n",
      " [-0.1 -0.5 -1.7 -4.4 -3.1 -1.3 -1.6 -1.6]\n",
      " [-0.2 -0.2 -1.3 0.9 1.0 -1.7 -2.0 0.6]\n",
      " [-0.4 0.3 1.6 1.0 -0.3 -0.1 1.1 1.0]]\n"
     ]
    }
   ],
   "source": [
    "GT.build_consensus_matrix('crypto', gff3, fa, 'PSSM_5p.txt', seq_type='intron', position=('5prime',-2,6))"
   ]
  },
  {
   "cell_type": "markdown",
   "metadata": {},
   "source": [
    "## Populate introns from JUM"
   ]
  },
  {
   "cell_type": "code",
   "execution_count": 39,
   "metadata": {},
   "outputs": [],
   "source": [
    "JUM_file = '/data/jade/Data/HMJSL01/STAR/JUM_diff_GP1/FINAL_JUM_OUTPUT_pvalue_1/AS_differential_JUM_output_intron_retention_pvalue_1_final_detailed.txt'"
   ]
  },
  {
   "cell_type": "code",
   "execution_count": 40,
   "metadata": {},
   "outputs": [],
   "source": [
    "def intron_list_from_JUM(JUM_file, organism_obj):\n",
    "    JUM_introns = []\n",
    "    with open(JUM_file) as f:\n",
    "        for line in f:\n",
    "            if not line.startswith('Gene'):\n",
    "                intron_str = line.split('\\t')[1]\n",
    "                intron = GT.Intron(intron_str, str_format='JUM', organism=organism_obj)\n",
    "                \n",
    "                # JUM seems to be slightly misreading the splice sites compared to my GFF3\n",
    "                # ...calls the end of the upstream exon then 1 nt before the end of the intron\n",
    "                intron.start = intron.start+1\n",
    "                intron.end = intron.end+1\n",
    "                \n",
    "                JUM_introns.append(intron)\n",
    "    return JUM_introns"
   ]
  },
  {
   "cell_type": "code",
   "execution_count": null,
   "metadata": {},
   "outputs": [],
   "source": [
    "JUM_introns = intron_list_from_JUM(JUM_file, crypto)"
   ]
  },
  {
   "cell_type": "code",
   "execution_count": null,
   "metadata": {},
   "outputs": [],
   "source": [
    "len(JUM_introns)"
   ]
  },
  {
   "cell_type": "code",
   "execution_count": null,
   "metadata": {},
   "outputs": [],
   "source": [
    "print JUM_introns[0].chromosome\n",
    "print JUM_introns[0].start\n",
    "print JUM_introns[0].end\n",
    "print JUM_introns[0].strand\n",
    "print JUM_introns[0].annotated()\n",
    "print JUM_introns[0].sequence()\n",
    "print JUM_introns[0].score5p('/home/jordan/GENOMES/CNA3_5pSS_PSSM.txt', quiet=False)\n",
    "print JUM_introns[0].score3p('/home/jordan/GENOMES/CNA3_3pSS_PSSM.txt', quiet=False)\n",
    "print JUM_introns[0].transcripts()"
   ]
  },
  {
   "cell_type": "code",
   "execution_count": null,
   "metadata": {},
   "outputs": [],
   "source": [
    "print JUM_introns[30].chromosome\n",
    "print JUM_introns[30].start\n",
    "print JUM_introns[30].end\n",
    "print JUM_introns[30].strand\n",
    "print JUM_introns[30].annotated()\n",
    "print JUM_introns[30].sequence()\n",
    "print JUM_introns[30].score5p('/home/jordan/GENOMES/CNA3_5pSS_PSSM.txt', quiet=False)\n",
    "print JUM_introns[30].score3p('/home/jordan/GENOMES/CNA3_3pSS_PSSM.txt', quiet=False)\n",
    "print JUM_introns[30].transcripts()"
   ]
  },
  {
   "cell_type": "code",
   "execution_count": null,
   "metadata": {},
   "outputs": [],
   "source": [
    "import pandas as pd\n",
    "def df_from_JUM(JUM_file, organism_obj, PSSM5, PSSM3, branch_db=None):\n",
    "    cols = ['chromosome','start','end','strand','5p seq','5p score','3p seq','3p score','perc py',\n",
    "            'transcripts','annotated','length']\n",
    "    if branch_db is not None:\n",
    "        cols = cols + ['BP-3p dist','BP seq']\n",
    "    JUM_introns = pd.DataFrame(columns=cols)\n",
    "    with open(JUM_file) as f:\n",
    "        for n, line in enumerate(f):\n",
    "            if n%100 == 0: print n\n",
    "            if not line.startswith('Gene'):\n",
    "                intron_str = line.split('\\t')[1]\n",
    "                intron = GT.Intron(intron_str, str_format='JUM',organism=organism_obj)\n",
    "                \n",
    "                # JUM seems to be slightly misreading the splice sites compared to my GFF3\n",
    "                # ...calls the end of the upstream exon then 1 nt before the end of the intron\n",
    "                intron.start = intron.start+1\n",
    "                intron.end = intron.end+1\n",
    "\n",
    "                data = [intron.chromosome, intron.start, intron.end, intron.strand,\n",
    "                        intron.sequence()[:8], intron.score5p(PSSM5),\n",
    "                        intron.sequence()[-8:], intron.score3p(PSSM3), intron.percent_py(),\n",
    "                        intron.transcripts(as_string=True), intron.annotated(), intron.length]\n",
    "                \n",
    "                if branch_db is not None:\n",
    "                    branch, br_seq, br_dist, py_content = intorn.branch(branch_db)\n",
    "                    data = data + [br_dist,br_seq]\n",
    "                    \n",
    "                s = pd.Series(data,index=cols,name=intron_str)\n",
    "                JUM_introns = JUM_introns.append(s)\n",
    "                \n",
    "    return JUM_introns"
   ]
  },
  {
   "cell_type": "code",
   "execution_count": null,
   "metadata": {},
   "outputs": [],
   "source": [
    "df_from_JUM(JUM_file, crypto, '/home/jordan/GENOMES/CNA3_5pSS_PSSM.txt', '/home/jordan/GENOMES/CNA3_3pSS_PSSM.txt')"
   ]
  },
  {
   "cell_type": "code",
   "execution_count": null,
   "metadata": {},
   "outputs": [],
   "source": []
  }
 ],
 "metadata": {
  "kernelspec": {
   "display_name": "Python 2",
   "language": "python",
   "name": "python2"
  },
  "language_info": {
   "codemirror_mode": {
    "name": "ipython",
    "version": 2
   },
   "file_extension": ".py",
   "mimetype": "text/x-python",
   "name": "python",
   "nbconvert_exporter": "python",
   "pygments_lexer": "ipython2",
   "version": "2.7.12"
  }
 },
 "nbformat": 4,
 "nbformat_minor": 1
}
